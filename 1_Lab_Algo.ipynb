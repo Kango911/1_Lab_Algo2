{
  "nbformat": 4,
  "nbformat_minor": 0,
  "metadata": {
    "colab": {
      "provenance": [],
      "authorship_tag": "ABX9TyMAfdCo3VIO+qmQj3XQyxoW",
      "include_colab_link": true
    },
    "kernelspec": {
      "name": "python3",
      "display_name": "Python 3"
    },
    "language_info": {
      "name": "python"
    }
  },
  "cells": [
    {
      "cell_type": "markdown",
      "metadata": {
        "id": "view-in-github",
        "colab_type": "text"
      },
      "source": [
        "<a href=\"https://colab.research.google.com/github/Kango911/1_Lab_Algo2/blob/main/1_Lab_Algo.ipynb\" target=\"_parent\"><img src=\"https://colab.research.google.com/assets/colab-badge.svg\" alt=\"Open In Colab\"/></a>"
      ]
    },
    {
      "cell_type": "markdown",
      "source": [
        "# Импорты"
      ],
      "metadata": {
        "id": "7aaMDS0am_Jm"
      }
    },
    {
      "cell_type": "code",
      "source": [
        "import numpy as np\n",
        "import matplotlib.pyplot as plt\n",
        "import time"
      ],
      "metadata": {
        "id": "R_nhnmXUnEzi"
      },
      "execution_count": 394,
      "outputs": []
    },
    {
      "cell_type": "markdown",
      "source": [
        "# 1 часть: Анализ сложности алгоритмов"
      ],
      "metadata": {
        "id": "lQtkDytdnFqZ"
      }
    },
    {
      "cell_type": "markdown",
      "source": [
        "# Функция для генерации случайного массива"
      ],
      "metadata": {
        "id": "TQCYukeHnT2A"
      }
    },
    {
      "cell_type": "code",
      "source": [
        "def generate_random_array(N):\n",
        "    return np.random.randint(0, 100, size=N)"
      ],
      "metadata": {
        "id": "EUNA18IhnRVt"
      },
      "execution_count": 395,
      "outputs": []
    },
    {
      "cell_type": "markdown",
      "source": [
        "# Алгоритмы"
      ],
      "metadata": {
        "id": "jdMP_tflnZA8"
      }
    },
    {
      "cell_type": "code",
      "source": [
        "def bubble_sort(arr):\n",
        "    n = len(arr)\n",
        "    for i in range(n):\n",
        "        for j in range(0, n-i-1):\n",
        "            if arr[j] > arr[j+1]:\n",
        "                arr[j], arr[j+1] = arr[j+1], arr[j]\n",
        "    return arr\n",
        "\n",
        "def quick_sort(arr):\n",
        "    if len(arr) <= 1:\n",
        "        return arr\n",
        "    pivot = arr[len(arr) // 2]\n",
        "    left = [x for x in arr if x < pivot]\n",
        "    middle = [x for x in arr if x == pivot]\n",
        "    right = [x for x in arr if x > pivot]\n",
        "    return quick_sort(left) + middle + quick_sort(right)\n",
        "\n",
        "def linear_search(arr, target):\n",
        "    for i in range(len(arr)):\n",
        "        if arr[i] == target:\n",
        "            return i\n",
        "    return -1"
      ],
      "metadata": {
        "id": "6v7vMuKInaJS"
      },
      "execution_count": 396,
      "outputs": []
    },
    {
      "cell_type": "markdown",
      "source": [
        "# Замер времени работы алгоритмов"
      ],
      "metadata": {
        "id": "XVGfyDjDncTN"
      }
    },
    {
      "cell_type": "code",
      "source": [
        "def measure_time(algorithm, *args):\n",
        "    start_time = time.time()\n",
        "    algorithm(*args)\n",
        "    return time.time() - start_time"
      ],
      "metadata": {
        "id": "EhBWZGw5nd-u"
      },
      "execution_count": 397,
      "outputs": []
    },
    {
      "cell_type": "markdown",
      "source": [
        "# Значения N для анализа"
      ],
      "metadata": {
        "id": "E-Yy9K4Qngwq"
      }
    },
    {
      "cell_type": "code",
      "source": [
        "N_values = [1, 2, 5, 10, 20, 30, 50, 70, 100, 150]"
      ],
      "metadata": {
        "id": "UKpz7lyonjj6"
      },
      "execution_count": 398,
      "outputs": []
    },
    {
      "cell_type": "markdown",
      "source": [
        "# Сбор данных о времени работы алгоритмов"
      ],
      "metadata": {
        "id": "X9AgeSpznm2F"
      }
    },
    {
      "cell_type": "code",
      "source": [
        "# Сбор данных о времени работы алгоритмов\n",
        "bubble_sort_times = []\n",
        "quick_sort_times = []\n",
        "search_times = []\n",
        "\n",
        "for N in N_values:\n",
        "    data = generate_random_array(N)\n",
        "\n",
        "    # Замеры для сортировки пузырьком\n",
        "    bubble_sort_times.append(measure_time(bubble_sort, data.copy()))\n",
        "\n",
        "    # Замеры для быстрой сортировки\n",
        "    quick_sort_times.append(measure_time(quick_sort, data.copy()))\n",
        "\n",
        "    # Замеры для линейного поиска (поиск элемента)\n",
        "    target = data[np.random.randint(0, N)]\n",
        "    search_times.append(measure_time(linear_search, data.copy(), target))"
      ],
      "metadata": {
        "id": "DjPA6cwdnpv1"
      },
      "execution_count": 399,
      "outputs": []
    },
    {
      "cell_type": "markdown",
      "source": [
        "# Построение графиков"
      ],
      "metadata": {
        "id": "DNZeGIYVoDHM"
      }
    },
    {
      "cell_type": "code",
      "source": [
        "plt.figure(figsize=(15, 5))\n",
        "\n",
        "# График для пузырьковой сортировки\n",
        "plt.subplot(1, 3, 1)\n",
        "plt.plot(N_values, bubble_sort_times, marker='o', color='red')\n",
        "plt.title('Bubble Sort Time Complexity')\n",
        "plt.xlabel('N')\n",
        "plt.ylabel('Time (seconds)')\n",
        "\n",
        "# График для быстрой сортировки\n",
        "plt.subplot(1, 3, 2)\n",
        "plt.plot(N_values, quick_sort_times, marker='o', color='orange')\n",
        "plt.title('Quick Sort Time Complexity')\n",
        "plt.xlabel('N')\n",
        "plt.ylabel('Time (seconds)')\n",
        "\n",
        "# График для линейного поиска\n",
        "plt.subplot(1, 3, 3)\n",
        "plt.plot(N_values, search_times, marker='o', color='green')\n",
        "plt.title('Linear Search Time Complexity')\n",
        "plt.xlabel('N')\n",
        "plt.ylabel('Time (seconds)')\n",
        "\n",
        "plt.tight_layout()\n",
        "plt.show()"
      ],
      "metadata": {
        "colab": {
          "base_uri": "https://localhost:8080/",
          "height": 507
        },
        "id": "Lu37UT5-oDmy",
        "outputId": "86e815fa-125f-40ae-d755-9d4a629dd466"
      },
      "execution_count": 400,
      "outputs": [
        {
          "output_type": "display_data",
          "data": {
            "text/plain": [
              "<Figure size 1500x500 with 3 Axes>"
            ],
            "image/png": "[encoded data removed]"
          },
          "metadata": {}
        }
      ]
    },
    {
      "cell_type": "markdown",
      "source": [
        "# Вывод гипотезы о сложности"
      ],
      "metadata": {
        "id": "yV8ZFx_4oGov"
      }
    },
    {
      "cell_type": "code",
      "source": [
        "print(\"Гипотеза о сложности:\")\n",
        "print(\"1. Пузырьковая сортировка: O(N^2)\")\n",
        "print(\"2. Быстрая сортировка: O(N log N)\")\n",
        "print(\"3. Линейный поиск: O(N)\")"
      ],
      "metadata": {
        "colab": {
          "base_uri": "https://localhost:8080/"
        },
        "id": "W6mStJBHoKao",
        "outputId": "7a35e92a-afcc-405d-f15b-a771bb646bec"
      },
      "execution_count": 401,
      "outputs": [
        {
          "output_type": "stream",
          "name": "stdout",
          "text": [
            "Гипотеза о сложности:\n",
            "1. Пузырьковая сортировка: O(N^2)\n",
            "2. Быстрая сортировка: O(N log N)\n",
            "3. Линейный поиск: O(N)\n"
          ]
        }
      ]
    },
    {
      "cell_type": "markdown",
      "source": [
        "# 2 часть: Сравнение времени работы алгоритмов"
      ],
      "metadata": {
        "id": "p18SI5rNoLu-"
      }
    },
    {
      "cell_type": "markdown",
      "source": [
        "# Определяем лучшие, средние и худшие случаи для сортировок"
      ],
      "metadata": {
        "id": "wvWlMs82oe-W"
      }
    },
    {
      "cell_type": "code",
      "source": [
        "best_case_data = [np.arange(N) for N in [5, 50, 5000]]\n",
        "average_case_data = [generate_random_array(N) for N in [5, 50, 5000]]\n",
        "worst_case_data = [np.arange(N)[::-1] for N in [5, 50, 5000]]"
      ],
      "metadata": {
        "id": "jdem6_XZohdM"
      },
      "execution_count": 402,
      "outputs": []
    },
    {
      "cell_type": "markdown",
      "source": [
        "# Создаем таблицу для хранения результатов"
      ],
      "metadata": {
        "id": "s0Y1iGRCokMj"
      }
    },
    {
      "cell_type": "code",
      "source": [
        "results_table = {\n",
        "    'N': [],\n",
        "    'Случай': [],\n",
        "    'Готовая реализация': [],\n",
        "    'Собственная реализация': []\n",
        "}\n",
        "\n",
        "algorithms = [(linear_search, \"Bubble Sort\"), (quick_sort, \"Quick Sort\")]\n",
        "\n",
        "for N in [5, 50, 5000]:\n",
        "    # Лучший случай\n",
        "    best_case = np.arange(N)\n",
        "    best_time_bubble = measure_time(bubble_sort, best_case.copy())\n",
        "    best_time_quick = measure_time(quick_sort, best_case.copy())\n",
        "\n",
        "    # Средний случай\n",
        "    average_case = generate_random_array(N)\n",
        "    average_time_bubble = measure_time(bubble_sort, average_case.copy())\n",
        "    average_time_quick = measure_time(quick_sort, average_case.copy())\n",
        "\n",
        "    # Худший случай\n",
        "    worst_case = np.arange(N)[::-1]\n",
        "    worst_time_bubble = measure_time(bubble_sort, worst_case.copy())\n",
        "    worst_time_quick = measure_time(quick_sort, worst_case.copy())\n",
        "\n",
        "    # Добавляем результаты\n",
        "    results_table['N'].append(N)\n",
        "    results_table['Случай'].append('Лучший случай')\n",
        "    results_table['Готовая реализация'].append(best_time_bubble)\n",
        "    results_table['Собственная реализация'].append(best_time_quick)\n",
        "\n",
        "    results_table['N'].append(N)\n",
        "    results_table['Случай'].append('Средний случай')\n",
        "    results_table['Готовая реализация'].append(average_time_bubble)\n",
        "    results_table['Собственная реализация'].append(average_time_quick)\n",
        "\n",
        "    results_table['N'].append(N)\n",
        "    results_table['Случай'].append('Худший случай')\n",
        "    results_table['Готовая реализация'].append(worst_time_bubble)\n",
        "    results_table['Собственная реализация'].append(worst_time_quick)\n"
      ],
      "metadata": {
        "id": "9h8b7oREokp2"
      },
      "execution_count": 403,
      "outputs": []
    },
    {
      "cell_type": "markdown",
      "source": [
        "# Выводим таблицу результатов"
      ],
      "metadata": {
        "id": "413KqPl-osPq"
      }
    },
    {
      "cell_type": "code",
      "source": [
        "import pandas as pd\n",
        "\n",
        "results_df = pd.DataFrame(results_table)\n",
        "\n",
        "# Убедимся, что значения в нужных столбцах числовые\n",
        "results_df['Готовая реализация'] = pd.to_numeric(results_df['Готовая реализация'], errors='coerce')\n",
        "results_df['Собственная реализация'] = pd.to_numeric(results_df['Собственная реализация'], errors='coerce')\n",
        "\n",
        "# Стилизация таблицы\n",
        "styled_df = results_df.style \\\n",
        "    .set_table_attributes('style=\"width: 80%; margin: auto; border-collapse: collapse;\"') \\\n",
        "    .set_caption(\"Таблица времени работы алгоритмов\") \\\n",
        "    .set_properties(**{'text-align': 'center'}) \\\n",
        "    .set_table_styles([{\n",
        "        'selector': 'th',\n",
        "        'props': [('background-color', '#f2f2f2'), ('border', '1px solid black')]\n",
        "    }, {\n",
        "        'selector': 'td',\n",
        "        'props': [('border', '1px solid black')]\n",
        "    }])\n",
        "\n",
        "# Функция для подсветки ячеек\n",
        "def highlight_best(row):\n",
        "    styles = [''] * len(row)  # Создаем список стилей с длиной, равной количеству столбцов\n",
        "    g_ready = row['Готовая реализация']\n",
        "    s_own = row['Собственная реализация']\n",
        "\n",
        "    if g_ready < s_own:\n",
        "        styles[2] = 'background-color: lightgreen'  # Подсвечиваем \"Готовую реализацию\"\n",
        "    elif g_ready > s_own:\n",
        "        styles[3] = 'background-color: lightgreen'  # Подсвечиваем \"Собственную реализацию\"\n",
        "    else:  # Если они равны\n",
        "        styles[2] = 'background-color: lightgreen'  # Подсвечиваем \"Готовую реализацию\"\n",
        "\n",
        "    return styles\n",
        "\n",
        "# Применяем функцию к строкам\n",
        "styled_df = styled_df.apply(highlight_best, axis=1)\n",
        "\n",
        "# Отображаем стилизованную таблицу\n",
        "styled_df"
      ],
      "metadata": {
        "colab": {
          "base_uri": "https://localhost:8080/",
          "height": 359
        },
        "id": "lHcgQUy3otjN",
        "outputId": "9f4cda51-c708-4c7e-b9d4-b5e18bf35add"
      },
      "execution_count": 404,
      "outputs": [
        {
          "output_type": "execute_result",
          "data": {
            "text/plain": [
              "<pandas.io.formats.style.Styler at 0x7c6ad9675570>"
            ],
            "text/html": [
              "<style type=\"text/css\">\n",
              "#T_13fdc th {\n",
              "  background-color: #f2f2f2;\n",
              "  border: 1px solid black;\n",
              "}\n",
              "#T_13fdc td {\n",
              "  border: 1px solid black;\n",
              "}\n",
              "#T_13fdc_row0_col0, #T_13fdc_row0_col1, #T_13fdc_row0_col3, #T_13fdc_row1_col0, #T_13fdc_row1_col1, #T_13fdc_row1_col3, #T_13fdc_row2_col0, #T_13fdc_row2_col1, #T_13fdc_row2_col3, #T_13fdc_row3_col0, #T_13fdc_row3_col1, #T_13fdc_row3_col2, #T_13fdc_row4_col0, #T_13fdc_row4_col1, #T_13fdc_row4_col2, #T_13fdc_row5_col0, #T_13fdc_row5_col1, #T_13fdc_row5_col2, #T_13fdc_row6_col0, #T_13fdc_row6_col1, #T_13fdc_row6_col2, #T_13fdc_row7_col0, #T_13fdc_row7_col1, #T_13fdc_row7_col2, #T_13fdc_row8_col0, #T_13fdc_row8_col1, #T_13fdc_row8_col2 {\n",
              "  text-align: center;\n",
              "}\n",
              "#T_13fdc_row0_col2, #T_13fdc_row1_col2, #T_13fdc_row2_col2, #T_13fdc_row3_col3, #T_13fdc_row4_col3, #T_13fdc_row5_col3, #T_13fdc_row6_col3, #T_13fdc_row7_col3, #T_13fdc_row8_col3 {\n",
              "  text-align: center;\n",
              "  background-color: lightgreen;\n",
              "}\n",
              "</style>\n",
              "<table id=\"T_13fdc\" class=\"dataframe\">\n",
              "  <caption>Таблица времени работы алгоритмов</caption>\n",
              "  <thead>\n",
              "    <tr>\n",
              "      <th class=\"blank level0\" >&nbsp;</th>\n",
              "      <th id=\"T_13fdc_level0_col0\" class=\"col_heading level0 col0\" >N</th>\n",
              "      <th id=\"T_13fdc_level0_col1\" class=\"col_heading level0 col1\" >Случай</th>\n",
              "      <th id=\"T_13fdc_level0_col2\" class=\"col_heading level0 col2\" >Готовая реализация</th>\n",
              "      <th id=\"T_13fdc_level0_col3\" class=\"col_heading level0 col3\" >Собственная реализация</th>\n",
              "    </tr>\n",
              "  </thead>\n",
              "  <tbody>\n",
              "    <tr>\n",
              "      <th id=\"T_13fdc_level0_row0\" class=\"row_heading level0 row0\" >0</th>\n",
              "      <td id=\"T_13fdc_row0_col0\" class=\"data row0 col0\" >5</td>\n",
              "      <td id=\"T_13fdc_row0_col1\" class=\"data row0 col1\" >Лучший случай</td>\n",
              "      <td id=\"T_13fdc_row0_col2\" class=\"data row0 col2\" >0.000019</td>\n",
              "      <td id=\"T_13fdc_row0_col3\" class=\"data row0 col3\" >0.000040</td>\n",
              "    </tr>\n",
              "    <tr>\n",
              "      <th id=\"T_13fdc_level0_row1\" class=\"row_heading level0 row1\" >1</th>\n",
              "      <td id=\"T_13fdc_row1_col0\" class=\"data row1 col0\" >5</td>\n",
              "      <td id=\"T_13fdc_row1_col1\" class=\"data row1 col1\" >Средний случай</td>\n",
              "      <td id=\"T_13fdc_row1_col2\" class=\"data row1 col2\" >0.000016</td>\n",
              "      <td id=\"T_13fdc_row1_col3\" class=\"data row1 col3\" >0.000024</td>\n",
              "    </tr>\n",
              "    <tr>\n",
              "      <th id=\"T_13fdc_level0_row2\" class=\"row_heading level0 row2\" >2</th>\n",
              "      <td id=\"T_13fdc_row2_col0\" class=\"data row2 col0\" >5</td>\n",
              "      <td id=\"T_13fdc_row2_col1\" class=\"data row2 col1\" >Худший случай</td>\n",
              "      <td id=\"T_13fdc_row2_col2\" class=\"data row2 col2\" >0.000017</td>\n",
              "      <td id=\"T_13fdc_row2_col3\" class=\"data row2 col3\" >0.000019</td>\n",
              "    </tr>\n",
              "    <tr>\n",
              "      <th id=\"T_13fdc_level0_row3\" class=\"row_heading level0 row3\" >3</th>\n",
              "      <td id=\"T_13fdc_row3_col0\" class=\"data row3 col0\" >50</td>\n",
              "      <td id=\"T_13fdc_row3_col1\" class=\"data row3 col1\" >Лучший случай</td>\n",
              "      <td id=\"T_13fdc_row3_col2\" class=\"data row3 col2\" >0.000355</td>\n",
              "      <td id=\"T_13fdc_row3_col3\" class=\"data row3 col3\" >0.000152</td>\n",
              "    </tr>\n",
              "    <tr>\n",
              "      <th id=\"T_13fdc_level0_row4\" class=\"row_heading level0 row4\" >4</th>\n",
              "      <td id=\"T_13fdc_row4_col0\" class=\"data row4 col0\" >50</td>\n",
              "      <td id=\"T_13fdc_row4_col1\" class=\"data row4 col1\" >Средний случай</td>\n",
              "      <td id=\"T_13fdc_row4_col2\" class=\"data row4 col2\" >0.000588</td>\n",
              "      <td id=\"T_13fdc_row4_col3\" class=\"data row4 col3\" >0.000121</td>\n",
              "    </tr>\n",
              "    <tr>\n",
              "      <th id=\"T_13fdc_level0_row5\" class=\"row_heading level0 row5\" >5</th>\n",
              "      <td id=\"T_13fdc_row5_col0\" class=\"data row5 col0\" >50</td>\n",
              "      <td id=\"T_13fdc_row5_col1\" class=\"data row5 col1\" >Худший случай</td>\n",
              "      <td id=\"T_13fdc_row5_col2\" class=\"data row5 col2\" >0.000920</td>\n",
              "      <td id=\"T_13fdc_row5_col3\" class=\"data row5 col3\" >0.000115</td>\n",
              "    </tr>\n",
              "    <tr>\n",
              "      <th id=\"T_13fdc_level0_row6\" class=\"row_heading level0 row6\" >6</th>\n",
              "      <td id=\"T_13fdc_row6_col0\" class=\"data row6 col0\" >5000</td>\n",
              "      <td id=\"T_13fdc_row6_col1\" class=\"data row6 col1\" >Лучший случай</td>\n",
              "      <td id=\"T_13fdc_row6_col2\" class=\"data row6 col2\" >5.104131</td>\n",
              "      <td id=\"T_13fdc_row6_col3\" class=\"data row6 col3\" >0.013989</td>\n",
              "    </tr>\n",
              "    <tr>\n",
              "      <th id=\"T_13fdc_level0_row7\" class=\"row_heading level0 row7\" >7</th>\n",
              "      <td id=\"T_13fdc_row7_col0\" class=\"data row7 col0\" >5000</td>\n",
              "      <td id=\"T_13fdc_row7_col1\" class=\"data row7 col1\" >Средний случай</td>\n",
              "      <td id=\"T_13fdc_row7_col2\" class=\"data row7 col2\" >6.357438</td>\n",
              "      <td id=\"T_13fdc_row7_col3\" class=\"data row7 col3\" >0.007163</td>\n",
              "    </tr>\n",
              "    <tr>\n",
              "      <th id=\"T_13fdc_level0_row8\" class=\"row_heading level0 row8\" >8</th>\n",
              "      <td id=\"T_13fdc_row8_col0\" class=\"data row8 col0\" >5000</td>\n",
              "      <td id=\"T_13fdc_row8_col1\" class=\"data row8 col1\" >Худший случай</td>\n",
              "      <td id=\"T_13fdc_row8_col2\" class=\"data row8 col2\" >10.547345</td>\n",
              "      <td id=\"T_13fdc_row8_col3\" class=\"data row8 col3\" >0.013881</td>\n",
              "    </tr>\n",
              "  </tbody>\n",
              "</table>\n"
            ]
          },
          "metadata": {},
          "execution_count": 404
        }
      ]
    }
  ]
}